{
 "cells": [
  {
   "cell_type": "markdown",
   "id": "66d45343",
   "metadata": {},
   "source": [
    "## Understanding Performance Tunning for Training High Accuracy Deep or Shallow Models"
   ]
  },
  {
   "cell_type": "markdown",
   "id": "d03cdbda",
   "metadata": {},
   "source": [
    "### 1. Baseline Model for MNIST dataset "
   ]
  },
  {
   "cell_type": "code",
   "execution_count": 1,
   "id": "f5961dc9",
   "metadata": {},
   "outputs": [
    {
     "name": "stderr",
     "output_type": "stream",
     "text": [
      "Using TensorFlow backend.\n"
     ]
    }
   ],
   "source": [
    "from numpy import mean\n",
    "from numpy import std\n",
    "from matplotlib import pyplot\n",
    "from sklearn.model_selection import KFold\n",
    "from keras.datasets import mnist\n",
    "from keras.utils import to_categorical\n",
    "from keras.models import Sequential\n",
    "from keras.layers import Conv2D\n",
    "from keras.layers import MaxPooling2D\n",
    "from keras.layers import Dense\n",
    "from keras.layers import Flatten\n",
    "from keras.optimizers import SGD\n",
    "import tensorflow as tf\n",
    "from tensorflow import keras\n",
    "import numpy as np\n",
    "import time as t"
   ]
  },
  {
   "cell_type": "markdown",
   "id": "2805e1c9",
   "metadata": {},
   "source": [
    "### 1.1 Dataset overview"
   ]
  },
  {
   "cell_type": "code",
   "execution_count": 2,
   "id": "b6ba0ad7",
   "metadata": {},
   "outputs": [
    {
     "name": "stdout",
     "output_type": "stream",
     "text": [
      "Train: X=(60000, 28, 28), y=(60000,)\n",
      "Test: X=(10000, 28, 28), y=(10000,)\n"
     ]
    },
    {
     "data": {
      "image/png": "[encoded data removed]",
      "text/plain": [
       "<Figure size 432x288 with 6 Axes>"
      ]
     },
     "metadata": {
      "needs_background": "light"
     },
     "output_type": "display_data"
    }
   ],
   "source": [
    "(trainX, trainY), (testX, testY) = mnist.load_data()\n",
    "\n",
    "print('Train: X=%s, y=%s' % (trainX.shape, trainY.shape))\n",
    "print('Test: X=%s, y=%s' % (testX.shape, testY.shape))\n",
    "\n",
    "for i in range(6):\n",
    "    pyplot.subplot(330 + 1 + i)\n",
    "    pyplot.imshow(trainX[i], cmap=pyplot.get_cmap('gray'))\n",
    "\n",
    "pyplot.show()"
   ]
  },
  {
   "cell_type": "markdown",
   "id": "f9bd1faa",
   "metadata": {},
   "source": [
    "### 1.2 Creating Baseline Model"
   ]
  },
  {
   "cell_type": "code",
   "execution_count": 3,
   "id": "a013a18c",
   "metadata": {},
   "outputs": [],
   "source": [
    "def load_dataset():\n",
    "    # load dataset\n",
    "    (trainX, trainY), (testX, testY) = mnist.load_data()\n",
    "    # reshape dataset to have a single channel\n",
    "    trainX = trainX.reshape((trainX.shape[0], 28, 28, 1))\n",
    "    testX = testX.reshape((testX.shape[0], 28, 28, 1))\n",
    "    # one hot encode target values\n",
    "    trainY = to_categorical(trainY)\n",
    "    testY = to_categorical(testY)\n",
    "    return trainX, trainY, testX, testY"
   ]
  },
  {
   "cell_type": "code",
   "execution_count": 4,
   "id": "bbf0027e",
   "metadata": {},
   "outputs": [],
   "source": [
    "# scale pixels\n",
    "def prep_pixels(train, test):\n",
    "    # convert from integers to floats\n",
    "    train_norm = train.astype('float32')\n",
    "    test_norm = test.astype('float32')\n",
    "    # normalize to range 0-1\n",
    "    train_norm = train_norm / 255.0\n",
    "    test_norm = test_norm / 255.0\n",
    "    # return normalized images\n",
    "    return train_norm, test_norm"
   ]
  },
  {
   "cell_type": "code",
   "execution_count": 5,
   "id": "a80345b3",
   "metadata": {},
   "outputs": [],
   "source": [
    "# define cnn model\n",
    "def define_model(learning_rate=0.01, batch_size=32):\n",
    "    model = Sequential()\n",
    "    model.add(Conv2D(batch_size, (3, 3), activation='relu', kernel_initializer='he_uniform', input_shape=(28, 28, 1)))\n",
    "    model.add(MaxPooling2D((2, 2)))\n",
    "    model.add(Flatten())\n",
    "    model.add(Dense(100, activation='relu', kernel_initializer='he_uniform'))\n",
    "    model.add(Dense(10, activation='softmax'))\n",
    "    print(\"learning_rate\", learning_rate)\n",
    "    print(\"Batch_size :\", batch_size)\n",
    "    # compile model\n",
    "    opt = SGD(lr=learning_rate, momentum=0.9)\n",
    "    model.compile(optimizer=opt, loss='categorical_crossentropy', metrics=['accuracy'])\n",
    "    return model"
   ]
  },
  {
   "cell_type": "code",
   "execution_count": 6,
   "id": "e39aba5e",
   "metadata": {},
   "outputs": [],
   "source": [
    "# plot diagnostic learning curves\n",
    "def summarize_diagnostics(history):\n",
    "    # plot loss\n",
    "    pyplot.subplot(2, 1, 1)\n",
    "    pyplot.title('Cross Entropy Loss')\n",
    "    pyplot.plot(history.history['loss'], color='blue', label='train')\n",
    "    pyplot.plot(history.history['val_loss'], color='orange', label='test')\n",
    "    # plot accuracy\n",
    "    pyplot.subplot(2, 1, 2)\n",
    "    pyplot.title('Classification Accuracy')\n",
    "    pyplot.plot(history.history['accuracy'], color='blue', label='train')\n",
    "    pyplot.plot(history.history['val_accuracy'], color='orange', label='test')\n",
    "    pyplot.show()"
   ]
  },
  {
   "cell_type": "code",
   "execution_count": 12,
   "id": "c62c50b4",
   "metadata": {},
   "outputs": [],
   "source": [
    "# load dataset\n",
    "trainX, trainY, testX, testY = load_dataset()\n",
    "# prepare pixel data\n",
    "trainX, testX = prep_pixels(trainX, testX)\n"
   ]
  },
  {
   "cell_type": "code",
   "execution_count": 23,
   "id": "940bc50f",
   "metadata": {},
   "outputs": [
    {
     "name": "stdout",
     "output_type": "stream",
     "text": [
      "learning_rate 0.075\n",
      "Batch_size : 32\n",
      "MODEL B SUMMARY :\n",
      "Model: \"sequential_14\"\n",
      "_________________________________________________________________\n",
      "Layer (type)                 Output Shape              Param #   \n",
      "=================================================================\n",
      "conv2d_14 (Conv2D)           (None, 26, 26, 32)        320       \n",
      "_________________________________________________________________\n",
      "max_pooling2d_14 (MaxPooling (None, 13, 13, 32)        0         \n",
      "_________________________________________________________________\n",
      "flatten_14 (Flatten)         (None, 5408)              0         \n",
      "_________________________________________________________________\n",
      "dense_27 (Dense)             (None, 100)               540900    \n",
      "_________________________________________________________________\n",
      "dense_28 (Dense)             (None, 10)                1010      \n",
      "=================================================================\n",
      "Total params: 542,230\n",
      "Trainable params: 542,230\n",
      "Non-trainable params: 0\n",
      "_________________________________________________________________\n",
      "Training start time:  1632548121.023919\n",
      "Train on 60000 samples, validate on 10000 samples\n",
      "Epoch 1/10\n",
      "60000/60000 [==============================] - 46s 770us/step - loss: 0.1808 - accuracy: 0.9476 - val_loss: 0.0913 - val_accuracy: 0.9712\n",
      "Epoch 2/10\n",
      "60000/60000 [==============================] - 47s 790us/step - loss: 0.0810 - accuracy: 0.9760 - val_loss: 0.1078 - val_accuracy: 0.9684\n",
      "Epoch 3/10\n",
      "60000/60000 [==============================] - 41s 686us/step - loss: 0.0578 - accuracy: 0.9827 - val_loss: 0.0867 - val_accuracy: 0.9745\n",
      "Epoch 4/10\n",
      "60000/60000 [==============================] - 42s 694us/step - loss: 0.0476 - accuracy: 0.9856 - val_loss: 0.0843 - val_accuracy: 0.9754\n",
      "Epoch 5/10\n",
      "60000/60000 [==============================] - 45s 743us/step - loss: 0.0417 - accuracy: 0.9875 - val_loss: 0.0707 - val_accuracy: 0.9812\n",
      "Epoch 6/10\n",
      "60000/60000 [==============================] - 51s 853us/step - loss: 0.0365 - accuracy: 0.9895 - val_loss: 0.0877 - val_accuracy: 0.9819\n",
      "Epoch 7/10\n",
      "60000/60000 [==============================] - 45s 750us/step - loss: 0.0353 - accuracy: 0.9900 - val_loss: 0.0840 - val_accuracy: 0.9804\n",
      "Epoch 8/10\n",
      "60000/60000 [==============================] - 43s 720us/step - loss: 0.0352 - accuracy: 0.9900 - val_loss: 0.1104 - val_accuracy: 0.9805\n",
      "Epoch 9/10\n",
      "60000/60000 [==============================] - 45s 742us/step - loss: 0.0322 - accuracy: 0.9914 - val_loss: 0.1222 - val_accuracy: 0.9762\n",
      "Epoch 10/10\n",
      "60000/60000 [==============================] - 42s 698us/step - loss: 0.0289 - accuracy: 0.9922 - val_loss: 0.1270 - val_accuracy: 0.9767\n",
      "Training end time:  1632548569.319432\n"
     ]
    },
    {
     "data": {
      "image/png": "[encoded data removed]",
      "text/plain": [
       "<Figure size 432x288 with 2 Axes>"
      ]
     },
     "metadata": {
      "needs_background": "light"
     },
     "output_type": "display_data"
    },
    {
     "name": "stdout",
     "output_type": "stream",
     "text": [
      "Testing start time:  1632548569.580127\n",
      "Testing accuracy is   97.670\n",
      "Testing end time:  1632548571.913425\n",
      "[[ 969    0    2    0    0    0    3    1    5    0]\n",
      " [   0 1117    4    0    1    2    1    2    8    0]\n",
      " [   1    0 1005    2    0    0    1    3   20    0]\n",
      " [   0    0    5  994    0    2    0    1    6    2]\n",
      " [   0    2    2    0  954    0    3    1    3   17]\n",
      " [   2    0    1   15    0  859    7    0    6    2]\n",
      " [   5    1    2    1    1    1  944    0    3    0]\n",
      " [   0    7   13    5    3    1    0  987    3    9]\n",
      " [   2    0    0    1    1    2    5    3  957    3]\n",
      " [   3    1    0    2    6    3    0    3   10  981]]\n"
     ]
    }
   ],
   "source": [
    "# define model\n",
    "model = define_model(learning_rate=0.075)\n",
    "\n",
    "#print model summary \n",
    "print(\"MODEL B SUMMARY :\")\n",
    "model.summary()\n",
    "\n",
    "# train the model \n",
    "print(\"Training start time: \", t.time())\n",
    "history = model.fit(trainX, trainY, epochs=10, batch_size=32, validation_data=(testX,testY))\n",
    "print(\"Training end time: \", t.time())# learning curves\n",
    "\n",
    "#summarizing training history, how model performance increased with each epoch\n",
    "summarize_diagnostics(history)\n",
    "\n",
    "\n",
    "# evaluate the model \n",
    "print(\"Testing start time: \", t.time())\n",
    "loss, acc = model.evaluate(testX, testY, verbose=3)\n",
    "print(\"Testing accuracy is \", ' %.3f' % (acc * 100.0))\n",
    "print(\"Testing end time: \", t.time())\n",
    "\n",
    "#saving the model\n",
    "model_name=\"model_B\"\n",
    "model.save(model_name,\".h5\")\n",
    "\n",
    "# Confusion Matrix\n",
    "predictions = model.predict(testX)\n",
    "predictions = np.argmax(predictions,axis = 1)\n",
    "labels = np.argmax(testY,axis = 1)\n",
    "confusion_matrix = tf.math.confusion_matrix(\n",
    "    labels, predictions, num_classes=10\n",
    ")\n",
    "\n",
    "sess = tf.Session()\n",
    "with sess.as_default():\n",
    "        print(sess.run(confusion_matrix))\n",
    "\n"
   ]
  },
  {
   "cell_type": "markdown",
   "id": "523681e5",
   "metadata": {},
   "source": [
    "## 2. Tuning Hyper parameters for baseline model\n",
    "#### We change the learning rate and the batchsize to check how these hyperparamters effect the performance of our baseline model\n",
    "#### For baseline model , the learning rate  is 0.0075 and  the batch size:32"
   ]
  },
  {
   "cell_type": "markdown",
   "id": "20b3edcb",
   "metadata": {},
   "source": [
    "### Config 1: Learning rate: 0.5 , Batch Size:32"
   ]
  },
  {
   "cell_type": "code",
   "execution_count": 13,
   "id": "3ab432b0",
   "metadata": {},
   "outputs": [
    {
     "name": "stdout",
     "output_type": "stream",
     "text": [
      "learning_rate 0.5\n",
      "Batch_size : 32\n",
      "MODEL C SUMMARY :\n",
      "Model: \"sequential_5\"\n",
      "_________________________________________________________________\n",
      "Layer (type)                 Output Shape              Param #   \n",
      "=================================================================\n",
      "conv2d_5 (Conv2D)            (None, 26, 26, 32)        320       \n",
      "_________________________________________________________________\n",
      "max_pooling2d_5 (MaxPooling2 (None, 13, 13, 32)        0         \n",
      "_________________________________________________________________\n",
      "flatten_5 (Flatten)          (None, 5408)              0         \n",
      "_________________________________________________________________\n",
      "dense_9 (Dense)              (None, 100)               540900    \n",
      "_________________________________________________________________\n",
      "dense_10 (Dense)             (None, 10)                1010      \n",
      "=================================================================\n",
      "Total params: 542,230\n",
      "Trainable params: 542,230\n",
      "Non-trainable params: 0\n",
      "_________________________________________________________________\n",
      "Training start time:  1632531356.406191\n",
      "Train on 60000 samples, validate on 10000 samples\n",
      "Epoch 1/10\n",
      "60000/60000 [==============================] - 41s 692us/step - loss: 2.3461 - accuracy: 0.1021 - val_loss: 2.3359 - val_accuracy: 0.0958\n",
      "Epoch 2/10\n",
      "60000/60000 [==============================] - 38s 638us/step - loss: 2.3361 - accuracy: 0.1018 - val_loss: 2.3384 - val_accuracy: 0.0974\n",
      "Epoch 3/10\n",
      "60000/60000 [==============================] - 42s 697us/step - loss: 2.3377 - accuracy: 0.1030 - val_loss: 2.3258 - val_accuracy: 0.1135\n",
      "Epoch 4/10\n",
      "60000/60000 [==============================] - 44s 729us/step - loss: 2.3378 - accuracy: 0.1027 - val_loss: 2.3267 - val_accuracy: 0.1135\n",
      "Epoch 5/10\n",
      "60000/60000 [==============================] - 38s 641us/step - loss: 2.3375 - accuracy: 0.1008 - val_loss: 2.3286 - val_accuracy: 0.1009\n",
      "Epoch 6/10\n",
      "60000/60000 [==============================] - 43s 717us/step - loss: 2.3358 - accuracy: 0.1013 - val_loss: 2.3195 - val_accuracy: 0.0958\n",
      "Epoch 7/10\n",
      "60000/60000 [==============================] - 44s 727us/step - loss: 2.3380 - accuracy: 0.1020 - val_loss: 2.3421 - val_accuracy: 0.1135\n",
      "Epoch 8/10\n",
      "60000/60000 [==============================] - 43s 722us/step - loss: 2.3387 - accuracy: 0.1023 - val_loss: 2.3544 - val_accuracy: 0.1009\n",
      "Epoch 9/10\n",
      "60000/60000 [==============================] - 44s 727us/step - loss: 2.3371 - accuracy: 0.1000 - val_loss: 2.3455 - val_accuracy: 0.0958\n",
      "Epoch 10/10\n",
      "60000/60000 [==============================] - 42s 693us/step - loss: 2.3379 - accuracy: 0.1031 - val_loss: 2.3579 - val_accuracy: 0.1135\n",
      "Training end time:  1632531776.315294\n"
     ]
    },
    {
     "data": {
      "image/png": "[encoded data removed]",
      "text/plain": [
       "<Figure size 432x288 with 2 Axes>"
      ]
     },
     "metadata": {
      "needs_background": "light"
     },
     "output_type": "display_data"
    },
    {
     "name": "stdout",
     "output_type": "stream",
     "text": [
      "Testing start time:  1632531776.536627\n",
      "Testing accuracy is   11.350\n",
      "Testing end time:  1632531778.713221\n",
      "[[   0  980    0    0    0    0    0    0    0    0]\n",
      " [   0 1135    0    0    0    0    0    0    0    0]\n",
      " [   0 1032    0    0    0    0    0    0    0    0]\n",
      " [   0 1010    0    0    0    0    0    0    0    0]\n",
      " [   0  982    0    0    0    0    0    0    0    0]\n",
      " [   0  892    0    0    0    0    0    0    0    0]\n",
      " [   0  958    0    0    0    0    0    0    0    0]\n",
      " [   0 1028    0    0    0    0    0    0    0    0]\n",
      " [   0  974    0    0    0    0    0    0    0    0]\n",
      " [   0 1009    0    0    0    0    0    0    0    0]]\n"
     ]
    }
   ],
   "source": [
    "# define model\n",
    "model = define_model(learning_rate=0.5)\n",
    "\n",
    "#print model summary \n",
    "print(\"MODEL C SUMMARY :\")\n",
    "model.summary()\n",
    "\n",
    "# train the model \n",
    "print(\"Training start time: \", t.time())\n",
    "history = model.fit(trainX, trainY, epochs=10, batch_size=32, validation_data=(testX,testY))\n",
    "print(\"Training end time: \", t.time())# learning curves\n",
    "\n",
    "#summarizing training history, how model performance increased with each epoch\n",
    "summarize_diagnostics(history)\n",
    "\n",
    "\n",
    "# evaluate the model \n",
    "print(\"Testing start time: \", t.time())\n",
    "loss, acc = model.evaluate(testX, testY, verbose=3)\n",
    "print(\"Testing accuracy is \", ' %.3f' % (acc * 100.0))\n",
    "print(\"Testing end time: \", t.time())\n",
    "\n",
    "#saving the model\n",
    "model_name=\"model_C\"\n",
    "model.save(model_name+\".h5\")\n",
    "\n",
    "# Confusion Matrix\n",
    "predictions = model.predict(testX)\n",
    "predictions = np.argmax(predictions,axis = 1)\n",
    "labels = np.argmax(testY,axis = 1)\n",
    "confusion_matrix = tf.math.confusion_matrix(\n",
    "    labels, predictions, num_classes=10\n",
    ")\n",
    "\n",
    "sess = tf.Session()\n",
    "with sess.as_default():\n",
    "        print(sess.run(confusion_matrix))\n",
    "\n"
   ]
  },
  {
   "cell_type": "markdown",
   "id": "ac43c0b8",
   "metadata": {},
   "source": [
    "### 2.2 Config 2 : Learning rate : 0.01, Batch Size:32 "
   ]
  },
  {
   "cell_type": "code",
   "execution_count": 26,
   "id": "e79225e7",
   "metadata": {},
   "outputs": [
    {
     "name": "stdout",
     "output_type": "stream",
     "text": [
      "learning_rate 0.01\n",
      "Batch_size : 32\n",
      "MODEL A SUMMARY :\n",
      "Model: \"sequential_17\"\n",
      "_________________________________________________________________\n",
      "Layer (type)                 Output Shape              Param #   \n",
      "=================================================================\n",
      "conv2d_17 (Conv2D)           (None, 26, 26, 32)        320       \n",
      "_________________________________________________________________\n",
      "max_pooling2d_17 (MaxPooling (None, 13, 13, 32)        0         \n",
      "_________________________________________________________________\n",
      "flatten_17 (Flatten)         (None, 5408)              0         \n",
      "_________________________________________________________________\n",
      "dense_33 (Dense)             (None, 100)               540900    \n",
      "_________________________________________________________________\n",
      "dense_34 (Dense)             (None, 10)                1010      \n",
      "=================================================================\n",
      "Total params: 542,230\n",
      "Trainable params: 542,230\n",
      "Non-trainable params: 0\n",
      "_________________________________________________________________\n",
      "Training start time:  1632563921.14516\n",
      "Train on 60000 samples, validate on 10000 samples\n",
      "Epoch 1/10\n",
      "60000/60000 [==============================] - 47s 784us/step - loss: 0.1525 - accuracy: 0.9538 - val_loss: 0.0808 - val_accuracy: 0.9735\n",
      "Epoch 2/10\n",
      "60000/60000 [==============================] - 48s 800us/step - loss: 0.0513 - accuracy: 0.9844 - val_loss: 0.0454 - val_accuracy: 0.9851\n",
      "Epoch 3/10\n",
      "60000/60000 [==============================] - 49s 820us/step - loss: 0.0333 - accuracy: 0.9898 - val_loss: 0.0452 - val_accuracy: 0.9849\n",
      "Epoch 4/10\n",
      "60000/60000 [==============================] - 49s 824us/step - loss: 0.0232 - accuracy: 0.9927 - val_loss: 0.0400 - val_accuracy: 0.9878\n",
      "Epoch 5/10\n",
      "60000/60000 [==============================] - 46s 775us/step - loss: 0.0153 - accuracy: 0.9958 - val_loss: 0.0484 - val_accuracy: 0.9838\n",
      "Epoch 6/10\n",
      "60000/60000 [==============================] - 48s 796us/step - loss: 0.0106 - accuracy: 0.9973 - val_loss: 0.0408 - val_accuracy: 0.9873\n",
      "Epoch 7/10\n",
      "60000/60000 [==============================] - 47s 787us/step - loss: 0.0069 - accuracy: 0.9984 - val_loss: 0.0437 - val_accuracy: 0.9873\n",
      "Epoch 8/10\n",
      "60000/60000 [==============================] - 49s 824us/step - loss: 0.0049 - accuracy: 0.9989 - val_loss: 0.0446 - val_accuracy: 0.9869\n",
      "Epoch 9/10\n",
      "60000/60000 [==============================] - 50s 829us/step - loss: 0.0031 - accuracy: 0.9995 - val_loss: 0.0400 - val_accuracy: 0.9879\n",
      "Epoch 10/10\n",
      "60000/60000 [==============================] - 51s 854us/step - loss: 0.0021 - accuracy: 0.9997 - val_loss: 0.0418 - val_accuracy: 0.9878\n",
      "Training end time:  1632564408.349948\n"
     ]
    },
    {
     "data": {
      "image/png": "[encoded data removed]",
      "text/plain": [
       "<Figure size 432x288 with 2 Axes>"
      ]
     },
     "metadata": {
      "needs_background": "light"
     },
     "output_type": "display_data"
    },
    {
     "name": "stdout",
     "output_type": "stream",
     "text": [
      "Testing start time:  1632564408.7474592\n",
      "Testing accuracy is   98.780\n",
      "Testing end time:  1632564411.4681091\n",
      "\n",
      "[[ 976    1    0    0    0    1    1    1    0    0]\n",
      " [   0 1132    1    0    0    0    1    0    1    0]\n",
      " [   1    2 1020    0    1    0    1    6    1    0]\n",
      " [   0    0    2 1003    0    4    0    0    1    0]\n",
      " [   0    0    2    0  972    0    2    0    1    5]\n",
      " [   1    0    0    7    0  879    5    0    0    0]\n",
      " [   5    2    0    1    1    1  947    0    1    0]\n",
      " [   0    2    9    0    0    0    0 1011    2    4]\n",
      " [   4    0    3    4    0    1    0    3  955    4]\n",
      " [   2    2    0    3    9    4    0    4    2  983]]\n"
     ]
    }
   ],
   "source": [
    "# define model\n",
    "model = define_model()\n",
    "\n",
    "#print model summary \n",
    "print(\"MODEL A SUMMARY :\")\n",
    "model.summary()\n",
    "\n",
    "# train the model \n",
    "print(\"Training start time: \", t.time())\n",
    "history = model.fit(trainX, trainY, epochs=10, batch_size=32, validation_data=(testX,testY))\n",
    "print(\"Training end time: \", t.time())# learning curves\n",
    "\n",
    "#summarizing training history, how model performance increased with each epoch\n",
    "summarize_diagnostics(history)\n",
    "\n",
    "\n",
    "# evaluate the model \n",
    "print(\"Testing start time: \", t.time())\n",
    "loss, acc = model.evaluate(testX, testY, verbose=3)\n",
    "print(\"Testing accuracy is \", ' %.3f' % (acc * 100.0))\n",
    "print(\"Testing end time: \", t.time())\n",
    "\n",
    "#saving the model\n",
    "model_name=\"model_A\"\n",
    "model.save(model_name+\".h5\")\n",
    "\n",
    "# Confusion Matrix\n",
    "print()\n",
    "predictions = model.predict(testX)\n",
    "predictions = np.argmax(predictions,axis = 1)\n",
    "labels = np.argmax(testY,axis = 1)\n",
    "confusion_matrix = tf.math.confusion_matrix(\n",
    "    labels, predictions, num_classes=10\n",
    ")\n",
    "\n",
    "sess = tf.Session()\n",
    "with sess.as_default():\n",
    "        print(sess.run(confusion_matrix))\n",
    "\n"
   ]
  },
  {
   "cell_type": "markdown",
   "id": "6e74a11a",
   "metadata": {},
   "source": [
    "### 2.3 Config 3 : Learning rate : 0.01, Batch Size:20 "
   ]
  },
  {
   "cell_type": "code",
   "execution_count": 27,
   "id": "f7942cc0",
   "metadata": {},
   "outputs": [
    {
     "name": "stdout",
     "output_type": "stream",
     "text": [
      "learning_rate 0.01\n",
      "Batch_size : 20\n",
      "MODEL H SUMMARY :\n",
      "Model: \"sequential_18\"\n",
      "_________________________________________________________________\n",
      "Layer (type)                 Output Shape              Param #   \n",
      "=================================================================\n",
      "conv2d_18 (Conv2D)           (None, 26, 26, 20)        200       \n",
      "_________________________________________________________________\n",
      "max_pooling2d_18 (MaxPooling (None, 13, 13, 20)        0         \n",
      "_________________________________________________________________\n",
      "flatten_18 (Flatten)         (None, 3380)              0         \n",
      "_________________________________________________________________\n",
      "dense_35 (Dense)             (None, 100)               338100    \n",
      "_________________________________________________________________\n",
      "dense_36 (Dense)             (None, 10)                1010      \n",
      "=================================================================\n",
      "Total params: 339,310\n",
      "Trainable params: 339,310\n",
      "Non-trainable params: 0\n",
      "_________________________________________________________________\n",
      "Training start time:  1632564583.757747\n",
      "Train on 60000 samples, validate on 10000 samples\n",
      "Epoch 1/10\n",
      "60000/60000 [==============================] - 108s 2ms/step - loss: 0.1519 - accuracy: 0.9536 - val_loss: 0.0659 - val_accuracy: 0.9786\n",
      "Epoch 2/10\n",
      "60000/60000 [==============================] - 106s 2ms/step - loss: 0.0518 - accuracy: 0.9837 - val_loss: 0.0555 - val_accuracy: 0.9810\n",
      "Epoch 3/10\n",
      "60000/60000 [==============================] - 104s 2ms/step - loss: 0.0316 - accuracy: 0.9904 - val_loss: 0.0396 - val_accuracy: 0.9868\n",
      "Epoch 4/10\n",
      "60000/60000 [==============================] - 114s 2ms/step - loss: 0.0206 - accuracy: 0.9935 - val_loss: 0.0433 - val_accuracy: 0.9866\n",
      "Epoch 5/10\n",
      "60000/60000 [==============================] - 104s 2ms/step - loss: 0.0140 - accuracy: 0.9956 - val_loss: 0.0462 - val_accuracy: 0.9847\n",
      "Epoch 6/10\n",
      "60000/60000 [==============================] - 102s 2ms/step - loss: 0.0084 - accuracy: 0.9977 - val_loss: 0.0446 - val_accuracy: 0.9862\n",
      "Epoch 7/10\n",
      "60000/60000 [==============================] - 96s 2ms/step - loss: 0.0055 - accuracy: 0.9985 - val_loss: 0.0380 - val_accuracy: 0.9893\n",
      "Epoch 8/10\n",
      "60000/60000 [==============================] - 104s 2ms/step - loss: 0.0035 - accuracy: 0.9992 - val_loss: 0.0416 - val_accuracy: 0.9883\n",
      "Epoch 9/10\n",
      "60000/60000 [==============================] - 101s 2ms/step - loss: 0.0026 - accuracy: 0.9995 - val_loss: 0.0429 - val_accuracy: 0.9879\n",
      "Epoch 10/10\n",
      "60000/60000 [==============================] - 113s 2ms/step - loss: 0.0016 - accuracy: 0.9998 - val_loss: 0.0419 - val_accuracy: 0.9887\n",
      "Training end time:  1632565635.400903\n"
     ]
    },
    {
     "data": {
      "image/png": "[encoded data removed]",
      "text/plain": [
       "<Figure size 432x288 with 2 Axes>"
      ]
     },
     "metadata": {
      "needs_background": "light"
     },
     "output_type": "display_data"
    },
    {
     "name": "stdout",
     "output_type": "stream",
     "text": [
      "Testing start time:  1632565635.721749\n",
      "Testing accuracy is   98.870\n",
      "Testing end time:  1632565643.028563\n",
      "[[ 973    0    0    1    0    1    2    1    2    0]\n",
      " [   0 1129    0    2    1    1    1    1    0    0]\n",
      " [   1    3 1018    0    4    0    0    4    2    0]\n",
      " [   0    0    0 1001    0    3    0    2    3    1]\n",
      " [   0    1    0    0  969    0    5    0    1    6]\n",
      " [   0    0    0    8    0  881    3    0    0    0]\n",
      " [   3    2    0    0    1    1  951    0    0    0]\n",
      " [   0    0    3    1    1    0    0 1020    1    2]\n",
      " [   3    0    0    1    0    2    1    2  963    2]\n",
      " [   1    1    0    4    8    5    0    4    4  982]]\n"
     ]
    }
   ],
   "source": [
    "# define model\n",
    "model = define_model(learning_rate=0.01,batch_size=20)\n",
    "\n",
    "#print model summary \n",
    "print(\"MODEL H SUMMARY :\")\n",
    "model.summary()\n",
    "\n",
    "# train the model \n",
    "print(\"Training start time: \", t.time())\n",
    "history = model.fit(trainX, trainY, epochs=10, batch_size=20, validation_data=(testX,testY))\n",
    "print(\"Training end time: \", t.time())# learning curves\n",
    "\n",
    "#summarizing training history, how model performance increased with each epoch\n",
    "summarize_diagnostics(history)\n",
    "\n",
    "\n",
    "# evaluate the model \n",
    "print(\"Testing start time: \", t.time())\n",
    "loss, acc = model.evaluate(testX, testY, verbose=3)\n",
    "print(\"Testing accuracy is \", ' %.3f' % (acc * 100.0))\n",
    "print(\"Testing end time: \", t.time())\n",
    "\n",
    "#saving the model\n",
    "model_name=\"model_H\"\n",
    "model.save(model_name+\".h5\")\n",
    "\n",
    "# Confusion Matrix\n",
    "predictions = model.predict(testX)\n",
    "predictions = np.argmax(predictions,axis = 1)\n",
    "labels = np.argmax(testY,axis = 1)\n",
    "confusion_matrix = tf.math.confusion_matrix(\n",
    "    labels, predictions, num_classes=10\n",
    ")\n",
    "\n",
    "sess = tf.Session()\n",
    "with sess.as_default():\n",
    "        print(sess.run(confusion_matrix))"
   ]
  },
  {
   "cell_type": "markdown",
   "id": "452f252b",
   "metadata": {},
   "source": [
    "### 2.4 Config 4: Learning rate : 0.001, Batch Size:20 "
   ]
  },
  {
   "cell_type": "code",
   "execution_count": 28,
   "id": "1c7b0529",
   "metadata": {},
   "outputs": [
    {
     "name": "stdout",
     "output_type": "stream",
     "text": [
      "learning_rate 0.001\n",
      "Batch_size : 20\n",
      "MODEL G SUMMARY :\n",
      "Model: \"sequential_19\"\n",
      "_________________________________________________________________\n",
      "Layer (type)                 Output Shape              Param #   \n",
      "=================================================================\n",
      "conv2d_19 (Conv2D)           (None, 26, 26, 20)        200       \n",
      "_________________________________________________________________\n",
      "max_pooling2d_19 (MaxPooling (None, 13, 13, 20)        0         \n",
      "_________________________________________________________________\n",
      "flatten_19 (Flatten)         (None, 3380)              0         \n",
      "_________________________________________________________________\n",
      "dense_37 (Dense)             (None, 100)               338100    \n",
      "_________________________________________________________________\n",
      "dense_38 (Dense)             (None, 10)                1010      \n",
      "=================================================================\n",
      "Total params: 339,310\n",
      "Trainable params: 339,310\n",
      "Non-trainable params: 0\n",
      "_________________________________________________________________\n",
      "Training start time:  1632565844.33784\n",
      "Train on 60000 samples, validate on 10000 samples\n",
      "Epoch 1/10\n",
      "60000/60000 [==============================] - 111s 2ms/step - loss: 0.2910 - accuracy: 0.9187 - val_loss: 0.1395 - val_accuracy: 0.9615\n",
      "Epoch 2/10\n",
      "60000/60000 [==============================] - 103s 2ms/step - loss: 0.1241 - accuracy: 0.9649 - val_loss: 0.0938 - val_accuracy: 0.9727\n",
      "Epoch 3/10\n",
      "60000/60000 [==============================] - 99s 2ms/step - loss: 0.0881 - accuracy: 0.9757 - val_loss: 0.0747 - val_accuracy: 0.9770\n",
      "Epoch 4/10\n",
      "60000/60000 [==============================] - 110s 2ms/step - loss: 0.0705 - accuracy: 0.9798 - val_loss: 0.0638 - val_accuracy: 0.9796\n",
      "Epoch 5/10\n",
      "60000/60000 [==============================] - 105s 2ms/step - loss: 0.0584 - accuracy: 0.9837 - val_loss: 0.0570 - val_accuracy: 0.9822\n",
      "Epoch 6/10\n",
      "60000/60000 [==============================] - 104s 2ms/step - loss: 0.0508 - accuracy: 0.9857 - val_loss: 0.0559 - val_accuracy: 0.9822\n",
      "Epoch 7/10\n",
      "60000/60000 [==============================] - 97s 2ms/step - loss: 0.0441 - accuracy: 0.9873 - val_loss: 0.0535 - val_accuracy: 0.9832\n",
      "Epoch 8/10\n",
      "60000/60000 [==============================] - 93s 2ms/step - loss: 0.0391 - accuracy: 0.9890 - val_loss: 0.0475 - val_accuracy: 0.9847\n",
      "Epoch 9/10\n",
      "60000/60000 [==============================] - 92s 2ms/step - loss: 0.0351 - accuracy: 0.9904 - val_loss: 0.0461 - val_accuracy: 0.9845\n",
      "Epoch 10/10\n",
      "60000/60000 [==============================] - 93s 2ms/step - loss: 0.0308 - accuracy: 0.9911 - val_loss: 0.0440 - val_accuracy: 0.9851\n",
      "Training end time:  1632566853.25034\n"
     ]
    },
    {
     "data": {
      "image/png": "[encoded data removed]",
      "text/plain": [
       "<Figure size 432x288 with 2 Axes>"
      ]
     },
     "metadata": {
      "needs_background": "light"
     },
     "output_type": "display_data"
    },
    {
     "name": "stdout",
     "output_type": "stream",
     "text": [
      "Testing start time:  1632566853.4977322\n",
      "Testing accuracy is   98.510\n",
      "Testing end time:  1632566859.3556328\n",
      "[[ 974    0    1    0    0    1    1    1    2    0]\n",
      " [   0 1129    1    1    0    1    1    2    0    0]\n",
      " [   3    4 1012    1    1    0    3    3    4    1]\n",
      " [   0    0    0  999    0    7    0    1    2    1]\n",
      " [   0    0    1    0  968    0    4    0    0    9]\n",
      " [   2    0    0    4    0  881    3    0    2    0]\n",
      " [   7    3    0    0    1    3  943    0    1    0]\n",
      " [   1    2    5    2    0    0    0 1011    3    4]\n",
      " [   6    0    2    1    1    2    0    0  958    4]\n",
      " [   3    4    1    4    6    8    1    6    0  976]]\n"
     ]
    }
   ],
   "source": [
    "# define model\n",
    "model = define_model(learning_rate=0.001,batch_size=20)\n",
    "\n",
    "#print model summary \n",
    "print(\"MODEL G SUMMARY :\")\n",
    "model.summary()\n",
    "\n",
    "# train the model \n",
    "print(\"Training start time: \", t.time())\n",
    "history = model.fit(trainX, trainY, epochs=10, batch_size=20, validation_data=(testX,testY))\n",
    "print(\"Training end time: \", t.time())# learning curves\n",
    "\n",
    "#summarizing training history, how model performance increased with each epoch\n",
    "summarize_diagnostics(history)\n",
    "\n",
    "\n",
    "# evaluate the model \n",
    "print(\"Testing start time: \", t.time())\n",
    "loss, acc = model.evaluate(testX, testY, verbose=3)\n",
    "print(\"Testing accuracy is \", ' %.3f' % (acc * 100.0))\n",
    "print(\"Testing end time: \", t.time())\n",
    "\n",
    "#saving the model\n",
    "model_name=\"model_G\"\n",
    "model.save(model_name+\".h5\")\n",
    "\n",
    "# Confusion Matrix\n",
    "predictions = model.predict(testX)\n",
    "predictions = np.argmax(predictions,axis = 1)\n",
    "labels = np.argmax(testY,axis = 1)\n",
    "confusion_matrix = tf.math.confusion_matrix(\n",
    "    labels, predictions, num_classes=10\n",
    ")\n",
    "\n",
    "sess = tf.Session()\n",
    "with sess.as_default():\n",
    "        print(sess.run(confusion_matrix))\n"
   ]
  },
  {
   "cell_type": "markdown",
   "id": "d6f070ed",
   "metadata": {},
   "source": [
    "## 3. ADDITIONAL ANALYSIS"
   ]
  },
  {
   "cell_type": "markdown",
   "id": "88dcabef",
   "metadata": {},
   "source": [
    "### Config : Learning rate : 0.1, Batch Size:100"
   ]
  },
  {
   "cell_type": "code",
   "execution_count": 14,
   "id": "4181d22b",
   "metadata": {},
   "outputs": [
    {
     "name": "stdout",
     "output_type": "stream",
     "text": [
      "learning_rate 0.1\n",
      "Batch_size : 100\n",
      "MODEL D SUMMARY :\n",
      "Model: \"sequential_6\"\n",
      "_________________________________________________________________\n",
      "Layer (type)                 Output Shape              Param #   \n",
      "=================================================================\n",
      "conv2d_6 (Conv2D)            (None, 26, 26, 100)       1000      \n",
      "_________________________________________________________________\n",
      "max_pooling2d_6 (MaxPooling2 (None, 13, 13, 100)       0         \n",
      "_________________________________________________________________\n",
      "flatten_6 (Flatten)          (None, 16900)             0         \n",
      "_________________________________________________________________\n",
      "dense_11 (Dense)             (None, 100)               1690100   \n",
      "_________________________________________________________________\n",
      "dense_12 (Dense)             (None, 10)                1010      \n",
      "=================================================================\n",
      "Total params: 1,692,110\n",
      "Trainable params: 1,692,110\n",
      "Non-trainable params: 0\n",
      "_________________________________________________________________\n",
      "Training start time:  1632532012.544757\n",
      "Train on 60000 samples, validate on 10000 samples\n",
      "Epoch 1/10\n",
      "60000/60000 [==============================] - 340s 6ms/step - loss: 0.3851 - accuracy: 0.9357 - val_loss: 0.0669 - val_accuracy: 0.9793\n",
      "Epoch 2/10\n",
      "60000/60000 [==============================] - 380s 6ms/step - loss: 0.0594 - accuracy: 0.9819 - val_loss: 0.0572 - val_accuracy: 0.9818\n",
      "Epoch 3/10\n",
      "60000/60000 [==============================] - 374s 6ms/step - loss: 0.0393 - accuracy: 0.9876 - val_loss: 0.0585 - val_accuracy: 0.9826\n",
      "Epoch 4/10\n",
      "60000/60000 [==============================] - 376s 6ms/step - loss: 0.0278 - accuracy: 0.9910 - val_loss: 0.0587 - val_accuracy: 0.9827\n",
      "Epoch 5/10\n",
      "60000/60000 [==============================] - 351s 6ms/step - loss: 0.0188 - accuracy: 0.9937 - val_loss: 0.0559 - val_accuracy: 0.9832\n",
      "Epoch 6/10\n",
      "60000/60000 [==============================] - 361s 6ms/step - loss: 0.0148 - accuracy: 0.9950 - val_loss: 0.0626 - val_accuracy: 0.9842\n",
      "Epoch 7/10\n",
      "60000/60000 [==============================] - 417s 7ms/step - loss: 0.0093 - accuracy: 0.9967 - val_loss: 0.0605 - val_accuracy: 0.9848\n",
      "Epoch 8/10\n",
      "60000/60000 [==============================] - 359s 6ms/step - loss: 0.0056 - accuracy: 0.9981 - val_loss: 0.0691 - val_accuracy: 0.9838\n",
      "Epoch 9/10\n",
      "60000/60000 [==============================] - 340s 6ms/step - loss: 0.0047 - accuracy: 0.9985 - val_loss: 0.0611 - val_accuracy: 0.9842\n",
      "Epoch 10/10\n",
      "60000/60000 [==============================] - 700s 12ms/step - loss: 0.0016 - accuracy: 0.9996 - val_loss: 0.0718 - val_accuracy: 0.9837\n",
      "Training end time:  1632536011.319665\n"
     ]
    },
    {
     "data": {
      "image/png": "[encoded data removed]",
      "text/plain": [
       "<Figure size 432x288 with 2 Axes>"
      ]
     },
     "metadata": {
      "needs_background": "light"
     },
     "output_type": "display_data"
    },
    {
     "name": "stdout",
     "output_type": "stream",
     "text": [
      "Testing start time:  1632536012.520166\n",
      "Testing accuracy is   98.370\n",
      "Testing end time:  1632536042.022678\n"
     ]
    },
    {
     "ename": "KeyboardInterrupt",
     "evalue": "",
     "output_type": "error",
     "traceback": [
      "\u001b[0;31m---------------------------------------------------------------------------\u001b[0m",
      "\u001b[0;31mKeyboardInterrupt\u001b[0m                         Traceback (most recent call last)",
      "\u001b[0;32m<ipython-input-14-663b9ed0d350>\u001b[0m in \u001b[0;36m<module>\u001b[0;34m\u001b[0m\n\u001b[1;32m     26\u001b[0m \u001b[0;34m\u001b[0m\u001b[0m\n\u001b[1;32m     27\u001b[0m \u001b[0;31m# Confusion Matrix\u001b[0m\u001b[0;34m\u001b[0m\u001b[0;34m\u001b[0m\u001b[0m\n\u001b[0;32m---> 28\u001b[0;31m \u001b[0mpredictions\u001b[0m \u001b[0;34m=\u001b[0m \u001b[0mmodel\u001b[0m\u001b[0;34m.\u001b[0m\u001b[0mpredict\u001b[0m\u001b[0;34m(\u001b[0m\u001b[0mtestX\u001b[0m\u001b[0;34m)\u001b[0m\u001b[0;34m\u001b[0m\u001b[0m\n\u001b[0m\u001b[1;32m     29\u001b[0m \u001b[0mpredictions\u001b[0m \u001b[0;34m=\u001b[0m \u001b[0mnp\u001b[0m\u001b[0;34m.\u001b[0m\u001b[0margmax\u001b[0m\u001b[0;34m(\u001b[0m\u001b[0mpredictions\u001b[0m\u001b[0;34m,\u001b[0m\u001b[0maxis\u001b[0m \u001b[0;34m=\u001b[0m \u001b[0;36m1\u001b[0m\u001b[0;34m)\u001b[0m\u001b[0;34m\u001b[0m\u001b[0m\n\u001b[1;32m     30\u001b[0m \u001b[0mlabels\u001b[0m \u001b[0;34m=\u001b[0m \u001b[0mnp\u001b[0m\u001b[0;34m.\u001b[0m\u001b[0margmax\u001b[0m\u001b[0;34m(\u001b[0m\u001b[0mtestY\u001b[0m\u001b[0;34m,\u001b[0m\u001b[0maxis\u001b[0m \u001b[0;34m=\u001b[0m \u001b[0;36m1\u001b[0m\u001b[0;34m)\u001b[0m\u001b[0;34m\u001b[0m\u001b[0m\n",
      "\u001b[0;32m~/anaconda3/lib/python3.6/site-packages/keras/engine/training.py\u001b[0m in \u001b[0;36mpredict\u001b[0;34m(self, x, batch_size, verbose, steps, callbacks, max_queue_size, workers, use_multiprocessing)\u001b[0m\n\u001b[1;32m   1460\u001b[0m                                             \u001b[0mverbose\u001b[0m\u001b[0;34m=\u001b[0m\u001b[0mverbose\u001b[0m\u001b[0;34m,\u001b[0m\u001b[0;34m\u001b[0m\u001b[0m\n\u001b[1;32m   1461\u001b[0m                                             \u001b[0msteps\u001b[0m\u001b[0;34m=\u001b[0m\u001b[0msteps\u001b[0m\u001b[0;34m,\u001b[0m\u001b[0;34m\u001b[0m\u001b[0m\n\u001b[0;32m-> 1462\u001b[0;31m                                             callbacks=callbacks)\n\u001b[0m\u001b[1;32m   1463\u001b[0m \u001b[0;34m\u001b[0m\u001b[0m\n\u001b[1;32m   1464\u001b[0m     def train_on_batch(self, x, y,\n",
      "\u001b[0;32m~/anaconda3/lib/python3.6/site-packages/keras/engine/training_arrays.py\u001b[0m in \u001b[0;36mpredict_loop\u001b[0;34m(model, f, ins, batch_size, verbose, steps, callbacks)\u001b[0m\n\u001b[1;32m    322\u001b[0m             \u001b[0mbatch_logs\u001b[0m \u001b[0;34m=\u001b[0m \u001b[0;34m{\u001b[0m\u001b[0;34m'batch'\u001b[0m\u001b[0;34m:\u001b[0m \u001b[0mbatch_index\u001b[0m\u001b[0;34m,\u001b[0m \u001b[0;34m'size'\u001b[0m\u001b[0;34m:\u001b[0m \u001b[0mlen\u001b[0m\u001b[0;34m(\u001b[0m\u001b[0mbatch_ids\u001b[0m\u001b[0;34m)\u001b[0m\u001b[0;34m}\u001b[0m\u001b[0;34m\u001b[0m\u001b[0m\n\u001b[1;32m    323\u001b[0m             \u001b[0mcallbacks\u001b[0m\u001b[0;34m.\u001b[0m\u001b[0m_call_batch_hook\u001b[0m\u001b[0;34m(\u001b[0m\u001b[0;34m'predict'\u001b[0m\u001b[0;34m,\u001b[0m \u001b[0;34m'begin'\u001b[0m\u001b[0;34m,\u001b[0m \u001b[0mbatch_index\u001b[0m\u001b[0;34m,\u001b[0m \u001b[0mbatch_logs\u001b[0m\u001b[0;34m)\u001b[0m\u001b[0;34m\u001b[0m\u001b[0m\n\u001b[0;32m--> 324\u001b[0;31m             \u001b[0mbatch_outs\u001b[0m \u001b[0;34m=\u001b[0m \u001b[0mf\u001b[0m\u001b[0;34m(\u001b[0m\u001b[0mins_batch\u001b[0m\u001b[0;34m)\u001b[0m\u001b[0;34m\u001b[0m\u001b[0m\n\u001b[0m\u001b[1;32m    325\u001b[0m             \u001b[0mbatch_outs\u001b[0m \u001b[0;34m=\u001b[0m \u001b[0mto_list\u001b[0m\u001b[0;34m(\u001b[0m\u001b[0mbatch_outs\u001b[0m\u001b[0;34m)\u001b[0m\u001b[0;34m\u001b[0m\u001b[0m\n\u001b[1;32m    326\u001b[0m             \u001b[0;32mif\u001b[0m \u001b[0mbatch_index\u001b[0m \u001b[0;34m==\u001b[0m \u001b[0;36m0\u001b[0m\u001b[0;34m:\u001b[0m\u001b[0;34m\u001b[0m\u001b[0m\n",
      "\u001b[0;32m~/anaconda3/lib/python3.6/site-packages/tensorflow/python/keras/backend.py\u001b[0m in \u001b[0;36m__call__\u001b[0;34m(self, inputs)\u001b[0m\n\u001b[1;32m   3290\u001b[0m \u001b[0;34m\u001b[0m\u001b[0m\n\u001b[1;32m   3291\u001b[0m     fetched = self._callable_fn(*array_vals,\n\u001b[0;32m-> 3292\u001b[0;31m                                 run_metadata=self.run_metadata)\n\u001b[0m\u001b[1;32m   3293\u001b[0m     \u001b[0mself\u001b[0m\u001b[0;34m.\u001b[0m\u001b[0m_call_fetch_callbacks\u001b[0m\u001b[0;34m(\u001b[0m\u001b[0mfetched\u001b[0m\u001b[0;34m[\u001b[0m\u001b[0;34m-\u001b[0m\u001b[0mlen\u001b[0m\u001b[0;34m(\u001b[0m\u001b[0mself\u001b[0m\u001b[0;34m.\u001b[0m\u001b[0m_fetches\u001b[0m\u001b[0;34m)\u001b[0m\u001b[0;34m:\u001b[0m\u001b[0;34m]\u001b[0m\u001b[0;34m)\u001b[0m\u001b[0;34m\u001b[0m\u001b[0m\n\u001b[1;32m   3294\u001b[0m     output_structure = nest.pack_sequence_as(\n",
      "\u001b[0;32m~/anaconda3/lib/python3.6/site-packages/tensorflow/python/client/session.py\u001b[0m in \u001b[0;36m__call__\u001b[0;34m(self, *args, **kwargs)\u001b[0m\n\u001b[1;32m   1456\u001b[0m         ret = tf_session.TF_SessionRunCallable(self._session._session,\n\u001b[1;32m   1457\u001b[0m                                                \u001b[0mself\u001b[0m\u001b[0;34m.\u001b[0m\u001b[0m_handle\u001b[0m\u001b[0;34m,\u001b[0m \u001b[0margs\u001b[0m\u001b[0;34m,\u001b[0m\u001b[0;34m\u001b[0m\u001b[0m\n\u001b[0;32m-> 1458\u001b[0;31m                                                run_metadata_ptr)\n\u001b[0m\u001b[1;32m   1459\u001b[0m         \u001b[0;32mif\u001b[0m \u001b[0mrun_metadata\u001b[0m\u001b[0;34m:\u001b[0m\u001b[0;34m\u001b[0m\u001b[0m\n\u001b[1;32m   1460\u001b[0m           \u001b[0mproto_data\u001b[0m \u001b[0;34m=\u001b[0m \u001b[0mtf_session\u001b[0m\u001b[0;34m.\u001b[0m\u001b[0mTF_GetBuffer\u001b[0m\u001b[0;34m(\u001b[0m\u001b[0mrun_metadata_ptr\u001b[0m\u001b[0;34m)\u001b[0m\u001b[0;34m\u001b[0m\u001b[0m\n",
      "\u001b[0;31mKeyboardInterrupt\u001b[0m: "
     ]
    }
   ],
   "source": [
    "# define model\n",
    "model = define_model(learning_rate=0.1, batch_size=100)\n",
    "\n",
    "#print model summary \n",
    "print(\"MODEL D SUMMARY :\")\n",
    "model.summary()\n",
    "\n",
    "# train the model \n",
    "print(\"Training start time: \", t.time())\n",
    "history = model.fit(trainX, trainY, epochs=10, batch_size=100, validation_data=(testX,testY))\n",
    "print(\"Training end time: \", t.time())# learning curves\n",
    "\n",
    "#summarizing training history, how model performance increased with each epoch\n",
    "summarize_diagnostics(history)\n",
    "\n",
    "\n",
    "# evaluate the model \n",
    "print(\"Testing start time: \", t.time())\n",
    "loss, acc = model.evaluate(testX, testY, verbose=3)\n",
    "print(\"Testing accuracy is \", ' %.3f' % (acc * 100.0))\n",
    "print(\"Testing end time: \", t.time())\n",
    "\n",
    "#saving the model\n",
    "model_name=\"model_D\"\n",
    "model.save(model_name,\".h5\")\n",
    "\n",
    "# Confusion Matrix\n",
    "predictions = model.predict(testX)\n",
    "predictions = np.argmax(predictions,axis = 1)\n",
    "labels = np.argmax(testY,axis = 1)\n",
    "confusion_matrix = tf.math.confusion_matrix(\n",
    "    labels, predictions, num_classes=10\n",
    ")\n",
    "\n",
    "sess = tf.Session()\n",
    "with sess.as_default():\n",
    "        print(sess.run(confusion_matrix))\n",
    "\n"
   ]
  },
  {
   "cell_type": "markdown",
   "id": "11e46a60",
   "metadata": {},
   "source": [
    "### Config: Learning rate : 0.5, Batch Size:100\n"
   ]
  },
  {
   "cell_type": "code",
   "execution_count": 15,
   "id": "0f9314d9",
   "metadata": {},
   "outputs": [
    {
     "name": "stdout",
     "output_type": "stream",
     "text": [
      "learning_rate 0.5\n",
      "Batch_size : 100\n",
      "MODEL E SUMMARY :\n",
      "Model: \"sequential_7\"\n",
      "_________________________________________________________________\n",
      "Layer (type)                 Output Shape              Param #   \n",
      "=================================================================\n",
      "conv2d_7 (Conv2D)            (None, 26, 26, 100)       1000      \n",
      "_________________________________________________________________\n",
      "max_pooling2d_7 (MaxPooling2 (None, 13, 13, 100)       0         \n",
      "_________________________________________________________________\n",
      "flatten_7 (Flatten)          (None, 16900)             0         \n",
      "_________________________________________________________________\n",
      "dense_13 (Dense)             (None, 100)               1690100   \n",
      "_________________________________________________________________\n",
      "dense_14 (Dense)             (None, 10)                1010      \n",
      "=================================================================\n",
      "Total params: 1,692,110\n",
      "Trainable params: 1,692,110\n",
      "Non-trainable params: 0\n",
      "_________________________________________________________________\n",
      "Training start time:  1632536100.659231\n",
      "Train on 60000 samples, validate on 10000 samples\n",
      "Epoch 1/10\n",
      "60000/60000 [==============================] - 397s 7ms/step - loss: 2.5072 - accuracy: 0.1837 - val_loss: 2.3101 - val_accuracy: 0.1135\n",
      "Epoch 2/10\n",
      "60000/60000 [==============================] - 417s 7ms/step - loss: 2.3126 - accuracy: 0.1039 - val_loss: 2.3113 - val_accuracy: 0.1010\n",
      "Epoch 3/10\n",
      "60000/60000 [==============================] - 457s 8ms/step - loss: 2.3116 - accuracy: 0.1022 - val_loss: 2.3107 - val_accuracy: 0.0958\n",
      "Epoch 4/10\n",
      "60000/60000 [==============================] - 399s 7ms/step - loss: 2.3119 - accuracy: 0.1036 - val_loss: 2.3115 - val_accuracy: 0.0980\n",
      "Epoch 5/10\n",
      "60000/60000 [==============================] - 352s 6ms/step - loss: 2.3121 - accuracy: 0.1021 - val_loss: 2.3252 - val_accuracy: 0.0892\n",
      "Epoch 6/10\n",
      "60000/60000 [==============================] - 348s 6ms/step - loss: 2.3131 - accuracy: 0.1060 - val_loss: 2.3072 - val_accuracy: 0.1028\n",
      "Epoch 7/10\n",
      "60000/60000 [==============================] - 359s 6ms/step - loss: 2.3136 - accuracy: 0.1042 - val_loss: 2.3193 - val_accuracy: 0.1010\n",
      "Epoch 8/10\n",
      "60000/60000 [==============================] - 339s 6ms/step - loss: 2.3121 - accuracy: 0.1029 - val_loss: 2.3024 - val_accuracy: 0.1135\n",
      "Epoch 9/10\n",
      "60000/60000 [==============================] - 343s 6ms/step - loss: 2.3135 - accuracy: 0.1031 - val_loss: 2.3074 - val_accuracy: 0.1009\n",
      "Epoch 10/10\n",
      "60000/60000 [==============================] - 341s 6ms/step - loss: 2.3125 - accuracy: 0.1037 - val_loss: 2.3157 - val_accuracy: 0.0892\n",
      "Training end time:  1632539853.83956\n"
     ]
    },
    {
     "data": {
      "image/png": "[encoded data removed]",
      "text/plain": [
       "<Figure size 432x288 with 2 Axes>"
      ]
     },
     "metadata": {
      "needs_background": "light"
     },
     "output_type": "display_data"
    },
    {
     "name": "stdout",
     "output_type": "stream",
     "text": [
      "Testing start time:  1632539854.085818\n",
      "Testing accuracy is   8.920\n",
      "Testing end time:  1632539879.103255\n",
      "[[   0    0    0    0    0  980    0    0    0    0]\n",
      " [   0    0    0    0    0 1135    0    0    0    0]\n",
      " [   0    0    0    0    0 1032    0    0    0    0]\n",
      " [   0    0    0    0    0 1010    0    0    0    0]\n",
      " [   0    0    0    0    0  982    0    0    0    0]\n",
      " [   0    0    0    0    0  892    0    0    0    0]\n",
      " [   0    0    0    0    0  958    0    0    0    0]\n",
      " [   0    0    0    0    0 1028    0    0    0    0]\n",
      " [   0    0    0    0    0  974    0    0    0    0]\n",
      " [   0    0    0    0    0 1009    0    0    0    0]]\n"
     ]
    }
   ],
   "source": [
    "# define model\n",
    "model = define_model(learning_rate=0.5,batch_size=100)\n",
    "\n",
    "#print model summary \n",
    "print(\"MODEL E SUMMARY :\")\n",
    "model.summary()\n",
    "\n",
    "# train the model \n",
    "print(\"Training start time: \", t.time())\n",
    "history = model.fit(trainX, trainY, epochs=10, batch_size=100, validation_data=(testX,testY))\n",
    "print(\"Training end time: \", t.time())# learning curves\n",
    "\n",
    "#summarizing training history, how model performance increased with each epoch\n",
    "summarize_diagnostics(history)\n",
    "\n",
    "\n",
    "# evaluate the model \n",
    "print(\"Testing start time: \", t.time())\n",
    "loss, acc = model.evaluate(testX, testY, verbose=3)\n",
    "print(\"Testing accuracy is \", ' %.3f' % (acc * 100.0))\n",
    "print(\"Testing end time: \", t.time())\n",
    "\n",
    "#saving the model\n",
    "model_name=\"model_E\"\n",
    "model.save(model_name,\".h5\")\n",
    "\n",
    "# Confusion Matrix\n",
    "predictions = model.predict(testX)\n",
    "predictions = np.argmax(predictions,axis = 1)\n",
    "labels = np.argmax(testY,axis = 1)\n",
    "confusion_matrix = tf.math.confusion_matrix(\n",
    "    labels, predictions, num_classes=10\n",
    ")\n",
    "\n",
    "sess = tf.Session()\n",
    "with sess.as_default():\n",
    "        print(sess.run(confusion_matrix))\n"
   ]
  },
  {
   "cell_type": "markdown",
   "id": "fd2fe126",
   "metadata": {},
   "source": [
    "### Config : Learning rate : 0.05, Batch Size:20"
   ]
  },
  {
   "cell_type": "code",
   "execution_count": 17,
   "id": "e5bf4e3e",
   "metadata": {},
   "outputs": [
    {
     "name": "stdout",
     "output_type": "stream",
     "text": [
      "learning_rate 0.005\n",
      "Batch_size : 20\n",
      "MODEL F SUMMARY :\n",
      "Model: \"sequential_9\"\n",
      "_________________________________________________________________\n",
      "Layer (type)                 Output Shape              Param #   \n",
      "=================================================================\n",
      "conv2d_9 (Conv2D)            (None, 26, 26, 20)        200       \n",
      "_________________________________________________________________\n",
      "max_pooling2d_9 (MaxPooling2 (None, 13, 13, 20)        0         \n",
      "_________________________________________________________________\n",
      "flatten_9 (Flatten)          (None, 3380)              0         \n",
      "_________________________________________________________________\n",
      "dense_17 (Dense)             (None, 100)               338100    \n",
      "_________________________________________________________________\n",
      "dense_18 (Dense)             (None, 10)                1010      \n",
      "=================================================================\n",
      "Total params: 339,310\n",
      "Trainable params: 339,310\n",
      "Non-trainable params: 0\n",
      "_________________________________________________________________\n",
      "Training start time:  1632540332.167257\n",
      "Train on 60000 samples, validate on 10000 samples\n",
      "Epoch 1/10\n",
      "60000/60000 [==============================] - 99s 2ms/step - loss: 0.1758 - accuracy: 0.9474 - val_loss: 0.0738 - val_accuracy: 0.9772\n",
      "Epoch 2/10\n",
      "60000/60000 [==============================] - 95s 2ms/step - loss: 0.0632 - accuracy: 0.9813 - val_loss: 0.0463 - val_accuracy: 0.9855\n",
      "Epoch 3/10\n",
      "60000/60000 [==============================] - 95s 2ms/step - loss: 0.0417 - accuracy: 0.9873 - val_loss: 0.0416 - val_accuracy: 0.9861\n",
      "Epoch 4/10\n",
      "60000/60000 [==============================] - 96s 2ms/step - loss: 0.0304 - accuracy: 0.9905 - val_loss: 0.0407 - val_accuracy: 0.9859\n",
      "Epoch 5/10\n",
      "60000/60000 [==============================] - 95s 2ms/step - loss: 0.0217 - accuracy: 0.9938 - val_loss: 0.0418 - val_accuracy: 0.9852\n",
      "Epoch 6/10\n",
      "60000/60000 [==============================] - 95s 2ms/step - loss: 0.0155 - accuracy: 0.9957 - val_loss: 0.0404 - val_accuracy: 0.9863\n",
      "Epoch 7/10\n",
      "60000/60000 [==============================] - 93s 2ms/step - loss: 0.0109 - accuracy: 0.9972 - val_loss: 0.0455 - val_accuracy: 0.9858\n",
      "Epoch 8/10\n",
      "60000/60000 [==============================] - 134s 2ms/step - loss: 0.0083 - accuracy: 0.9983 - val_loss: 0.0363 - val_accuracy: 0.9884\n",
      "Epoch 9/10\n",
      "60000/60000 [==============================] - 100s 2ms/step - loss: 0.0059 - accuracy: 0.9987 - val_loss: 0.0409 - val_accuracy: 0.9876\n",
      "Epoch 10/10\n",
      "60000/60000 [==============================] - 100s 2ms/step - loss: 0.0040 - accuracy: 0.9993 - val_loss: 0.0395 - val_accuracy: 0.9874\n",
      "Training end time:  1632541334.552811\n"
     ]
    },
    {
     "data": {
      "image/png": "[encoded data removed]",
      "text/plain": [
       "<Figure size 432x288 with 2 Axes>"
      ]
     },
     "metadata": {
      "needs_background": "light"
     },
     "output_type": "display_data"
    },
    {
     "name": "stdout",
     "output_type": "stream",
     "text": [
      "Testing start time:  1632541334.795155\n",
      "Testing accuracy is   98.740\n",
      "Testing end time:  1632541340.671016\n"
     ]
    },
    {
     "ename": "ValueError",
     "evalue": "Can not squeeze dim[1], expected a dimension of 1, got 10 for 'confusion_matrix_4/remove_squeezable_dimensions/Squeeze' (op: 'Squeeze') with input shapes: [10000,10].",
     "output_type": "error",
     "traceback": [
      "\u001b[0;31m---------------------------------------------------------------------------\u001b[0m",
      "\u001b[0;31mInvalidArgumentError\u001b[0m                      Traceback (most recent call last)",
      "\u001b[0;32m~/anaconda3/lib/python3.6/site-packages/tensorflow/python/framework/ops.py\u001b[0m in \u001b[0;36m_create_c_op\u001b[0;34m(graph, node_def, inputs, control_inputs)\u001b[0m\n\u001b[1;32m   1863\u001b[0m   \u001b[0;32mtry\u001b[0m\u001b[0;34m:\u001b[0m\u001b[0;34m\u001b[0m\u001b[0m\n\u001b[0;32m-> 1864\u001b[0;31m     \u001b[0mc_op\u001b[0m \u001b[0;34m=\u001b[0m \u001b[0mc_api\u001b[0m\u001b[0;34m.\u001b[0m\u001b[0mTF_FinishOperation\u001b[0m\u001b[0;34m(\u001b[0m\u001b[0mop_desc\u001b[0m\u001b[0;34m)\u001b[0m\u001b[0;34m\u001b[0m\u001b[0m\n\u001b[0m\u001b[1;32m   1865\u001b[0m   \u001b[0;32mexcept\u001b[0m \u001b[0merrors\u001b[0m\u001b[0;34m.\u001b[0m\u001b[0mInvalidArgumentError\u001b[0m \u001b[0;32mas\u001b[0m \u001b[0me\u001b[0m\u001b[0;34m:\u001b[0m\u001b[0;34m\u001b[0m\u001b[0m\n",
      "\u001b[0;31mInvalidArgumentError\u001b[0m: Can not squeeze dim[1], expected a dimension of 1, got 10 for 'confusion_matrix_4/remove_squeezable_dimensions/Squeeze' (op: 'Squeeze') with input shapes: [10000,10].",
      "\nDuring handling of the above exception, another exception occurred:\n",
      "\u001b[0;31mValueError\u001b[0m                                Traceback (most recent call last)",
      "\u001b[0;32m<ipython-input-17-0a6a49b62bac>\u001b[0m in \u001b[0;36m<module>\u001b[0;34m\u001b[0m\n\u001b[1;32m     30\u001b[0m \u001b[0mlabels\u001b[0m \u001b[0;34m=\u001b[0m \u001b[0mnp\u001b[0m\u001b[0;34m.\u001b[0m\u001b[0margmax\u001b[0m\u001b[0;34m(\u001b[0m\u001b[0mtestY\u001b[0m\u001b[0;34m,\u001b[0m\u001b[0maxis\u001b[0m \u001b[0;34m=\u001b[0m \u001b[0;36m1\u001b[0m\u001b[0;34m)\u001b[0m\u001b[0;34m\u001b[0m\u001b[0m\n\u001b[1;32m     31\u001b[0m confusion_matrix = tf.math.confusion_matrix(\n\u001b[0;32m---> 32\u001b[0;31m     \u001b[0mtestY\u001b[0m\u001b[0;34m,\u001b[0m \u001b[0mpredictions\u001b[0m\u001b[0;34m,\u001b[0m \u001b[0mnum_classes\u001b[0m\u001b[0;34m=\u001b[0m\u001b[0;36m10\u001b[0m\u001b[0;34m\u001b[0m\u001b[0m\n\u001b[0m\u001b[1;32m     33\u001b[0m )\n\u001b[1;32m     34\u001b[0m \u001b[0;34m\u001b[0m\u001b[0m\n",
      "\u001b[0;32m~/anaconda3/lib/python3.6/site-packages/tensorflow/python/ops/confusion_matrix.py\u001b[0m in \u001b[0;36mconfusion_matrix_v1\u001b[0;34m(labels, predictions, num_classes, dtype, name, weights)\u001b[0m\n\u001b[1;32m    259\u001b[0m   \"\"\"\n\u001b[1;32m    260\u001b[0m   return confusion_matrix(labels, predictions, num_classes, weights, dtype,\n\u001b[0;32m--> 261\u001b[0;31m                           name)\n\u001b[0m",
      "\u001b[0;32m~/anaconda3/lib/python3.6/site-packages/tensorflow/python/ops/confusion_matrix.py\u001b[0m in \u001b[0;36mconfusion_matrix\u001b[0;34m(labels, predictions, num_classes, weights, dtype, name)\u001b[0m\n\u001b[1;32m    153\u001b[0m         \u001b[0mops\u001b[0m\u001b[0;34m.\u001b[0m\u001b[0mconvert_to_tensor\u001b[0m\u001b[0;34m(\u001b[0m\u001b[0mlabels\u001b[0m\u001b[0;34m,\u001b[0m \u001b[0mname\u001b[0m\u001b[0;34m=\u001b[0m\u001b[0;34m'labels'\u001b[0m\u001b[0;34m)\u001b[0m\u001b[0;34m,\u001b[0m\u001b[0;34m\u001b[0m\u001b[0m\n\u001b[1;32m    154\u001b[0m         ops.convert_to_tensor(\n\u001b[0;32m--> 155\u001b[0;31m             predictions, name='predictions'))\n\u001b[0m\u001b[1;32m    156\u001b[0m     \u001b[0mpredictions\u001b[0m \u001b[0;34m=\u001b[0m \u001b[0mmath_ops\u001b[0m\u001b[0;34m.\u001b[0m\u001b[0mcast\u001b[0m\u001b[0;34m(\u001b[0m\u001b[0mpredictions\u001b[0m\u001b[0;34m,\u001b[0m \u001b[0mdtypes\u001b[0m\u001b[0;34m.\u001b[0m\u001b[0mint64\u001b[0m\u001b[0;34m)\u001b[0m\u001b[0;34m\u001b[0m\u001b[0m\n\u001b[1;32m    157\u001b[0m     \u001b[0mlabels\u001b[0m \u001b[0;34m=\u001b[0m \u001b[0mmath_ops\u001b[0m\u001b[0;34m.\u001b[0m\u001b[0mcast\u001b[0m\u001b[0;34m(\u001b[0m\u001b[0mlabels\u001b[0m\u001b[0;34m,\u001b[0m \u001b[0mdtypes\u001b[0m\u001b[0;34m.\u001b[0m\u001b[0mint64\u001b[0m\u001b[0;34m)\u001b[0m\u001b[0;34m\u001b[0m\u001b[0m\n",
      "\u001b[0;32m~/anaconda3/lib/python3.6/site-packages/tensorflow/python/ops/confusion_matrix.py\u001b[0m in \u001b[0;36mremove_squeezable_dimensions\u001b[0;34m(labels, predictions, expected_rank_diff, name)\u001b[0m\n\u001b[1;32m     71\u001b[0m         \u001b[0mpredictions\u001b[0m \u001b[0;34m=\u001b[0m \u001b[0marray_ops\u001b[0m\u001b[0;34m.\u001b[0m\u001b[0msqueeze\u001b[0m\u001b[0;34m(\u001b[0m\u001b[0mpredictions\u001b[0m\u001b[0;34m,\u001b[0m \u001b[0;34m[\u001b[0m\u001b[0;34m-\u001b[0m\u001b[0;36m1\u001b[0m\u001b[0;34m]\u001b[0m\u001b[0;34m)\u001b[0m\u001b[0;34m\u001b[0m\u001b[0m\n\u001b[1;32m     72\u001b[0m       \u001b[0;32melif\u001b[0m \u001b[0mrank_diff\u001b[0m \u001b[0;34m==\u001b[0m \u001b[0mexpected_rank_diff\u001b[0m \u001b[0;34m-\u001b[0m \u001b[0;36m1\u001b[0m\u001b[0;34m:\u001b[0m\u001b[0;34m\u001b[0m\u001b[0m\n\u001b[0;32m---> 73\u001b[0;31m         \u001b[0mlabels\u001b[0m \u001b[0;34m=\u001b[0m \u001b[0marray_ops\u001b[0m\u001b[0;34m.\u001b[0m\u001b[0msqueeze\u001b[0m\u001b[0;34m(\u001b[0m\u001b[0mlabels\u001b[0m\u001b[0;34m,\u001b[0m \u001b[0;34m[\u001b[0m\u001b[0;34m-\u001b[0m\u001b[0;36m1\u001b[0m\u001b[0;34m]\u001b[0m\u001b[0;34m)\u001b[0m\u001b[0;34m\u001b[0m\u001b[0m\n\u001b[0m\u001b[1;32m     74\u001b[0m       \u001b[0;32mreturn\u001b[0m \u001b[0mlabels\u001b[0m\u001b[0;34m,\u001b[0m \u001b[0mpredictions\u001b[0m\u001b[0;34m\u001b[0m\u001b[0m\n\u001b[1;32m     75\u001b[0m \u001b[0;34m\u001b[0m\u001b[0m\n",
      "\u001b[0;32m~/anaconda3/lib/python3.6/site-packages/tensorflow/python/util/dispatch.py\u001b[0m in \u001b[0;36mwrapper\u001b[0;34m(*args, **kwargs)\u001b[0m\n\u001b[1;32m    178\u001b[0m     \u001b[0;34m\"\"\"Call target, and fall back on dispatchers if there is a TypeError.\"\"\"\u001b[0m\u001b[0;34m\u001b[0m\u001b[0m\n\u001b[1;32m    179\u001b[0m     \u001b[0;32mtry\u001b[0m\u001b[0;34m:\u001b[0m\u001b[0;34m\u001b[0m\u001b[0m\n\u001b[0;32m--> 180\u001b[0;31m       \u001b[0;32mreturn\u001b[0m \u001b[0mtarget\u001b[0m\u001b[0;34m(\u001b[0m\u001b[0;34m*\u001b[0m\u001b[0margs\u001b[0m\u001b[0;34m,\u001b[0m \u001b[0;34m**\u001b[0m\u001b[0mkwargs\u001b[0m\u001b[0;34m)\u001b[0m\u001b[0;34m\u001b[0m\u001b[0m\n\u001b[0m\u001b[1;32m    181\u001b[0m     \u001b[0;32mexcept\u001b[0m \u001b[0;34m(\u001b[0m\u001b[0mTypeError\u001b[0m\u001b[0;34m,\u001b[0m \u001b[0mValueError\u001b[0m\u001b[0;34m)\u001b[0m\u001b[0;34m:\u001b[0m\u001b[0;34m\u001b[0m\u001b[0m\n\u001b[1;32m    182\u001b[0m       \u001b[0;31m# Note: convert_to_eager_tensor currently raises a ValueError, not a\u001b[0m\u001b[0;34m\u001b[0m\u001b[0;34m\u001b[0m\u001b[0m\n",
      "\u001b[0;32m~/anaconda3/lib/python3.6/site-packages/tensorflow/python/util/deprecation.py\u001b[0m in \u001b[0;36mnew_func\u001b[0;34m(*args, **kwargs)\u001b[0m\n\u001b[1;32m    505\u001b[0m                 \u001b[0;34m'in a future version'\u001b[0m \u001b[0;32mif\u001b[0m \u001b[0mdate\u001b[0m \u001b[0;32mis\u001b[0m \u001b[0;32mNone\u001b[0m \u001b[0;32melse\u001b[0m \u001b[0;34m(\u001b[0m\u001b[0;34m'after %s'\u001b[0m \u001b[0;34m%\u001b[0m \u001b[0mdate\u001b[0m\u001b[0;34m)\u001b[0m\u001b[0;34m,\u001b[0m\u001b[0;34m\u001b[0m\u001b[0m\n\u001b[1;32m    506\u001b[0m                 instructions)\n\u001b[0;32m--> 507\u001b[0;31m       \u001b[0;32mreturn\u001b[0m \u001b[0mfunc\u001b[0m\u001b[0;34m(\u001b[0m\u001b[0;34m*\u001b[0m\u001b[0margs\u001b[0m\u001b[0;34m,\u001b[0m \u001b[0;34m**\u001b[0m\u001b[0mkwargs\u001b[0m\u001b[0;34m)\u001b[0m\u001b[0;34m\u001b[0m\u001b[0m\n\u001b[0m\u001b[1;32m    508\u001b[0m \u001b[0;34m\u001b[0m\u001b[0m\n\u001b[1;32m    509\u001b[0m     doc = _add_deprecated_arg_notice_to_docstring(\n",
      "\u001b[0;32m~/anaconda3/lib/python3.6/site-packages/tensorflow/python/ops/array_ops.py\u001b[0m in \u001b[0;36msqueeze\u001b[0;34m(input, axis, name, squeeze_dims)\u001b[0m\n\u001b[1;32m   3160\u001b[0m   \u001b[0;32mif\u001b[0m \u001b[0mnp\u001b[0m\u001b[0;34m.\u001b[0m\u001b[0misscalar\u001b[0m\u001b[0;34m(\u001b[0m\u001b[0maxis\u001b[0m\u001b[0;34m)\u001b[0m\u001b[0;34m:\u001b[0m\u001b[0;34m\u001b[0m\u001b[0m\n\u001b[1;32m   3161\u001b[0m     \u001b[0maxis\u001b[0m \u001b[0;34m=\u001b[0m \u001b[0;34m[\u001b[0m\u001b[0maxis\u001b[0m\u001b[0;34m]\u001b[0m\u001b[0;34m\u001b[0m\u001b[0m\n\u001b[0;32m-> 3162\u001b[0;31m   \u001b[0;32mreturn\u001b[0m \u001b[0mgen_array_ops\u001b[0m\u001b[0;34m.\u001b[0m\u001b[0msqueeze\u001b[0m\u001b[0;34m(\u001b[0m\u001b[0minput\u001b[0m\u001b[0;34m,\u001b[0m \u001b[0maxis\u001b[0m\u001b[0;34m,\u001b[0m \u001b[0mname\u001b[0m\u001b[0;34m)\u001b[0m\u001b[0;34m\u001b[0m\u001b[0m\n\u001b[0m\u001b[1;32m   3163\u001b[0m \u001b[0;34m\u001b[0m\u001b[0m\n\u001b[1;32m   3164\u001b[0m \u001b[0;34m\u001b[0m\u001b[0m\n",
      "\u001b[0;32m~/anaconda3/lib/python3.6/site-packages/tensorflow/python/ops/gen_array_ops.py\u001b[0m in \u001b[0;36msqueeze\u001b[0;34m(input, axis, name)\u001b[0m\n\u001b[1;32m   9664\u001b[0m   \u001b[0maxis\u001b[0m \u001b[0;34m=\u001b[0m \u001b[0;34m[\u001b[0m\u001b[0m_execute\u001b[0m\u001b[0;34m.\u001b[0m\u001b[0mmake_int\u001b[0m\u001b[0;34m(\u001b[0m\u001b[0m_i\u001b[0m\u001b[0;34m,\u001b[0m \u001b[0;34m\"axis\"\u001b[0m\u001b[0;34m)\u001b[0m \u001b[0;32mfor\u001b[0m \u001b[0m_i\u001b[0m \u001b[0;32min\u001b[0m \u001b[0maxis\u001b[0m\u001b[0;34m]\u001b[0m\u001b[0;34m\u001b[0m\u001b[0m\n\u001b[1;32m   9665\u001b[0m   _, _, _op = _op_def_lib._apply_op_helper(\n\u001b[0;32m-> 9666\u001b[0;31m         \"Squeeze\", input=input, squeeze_dims=axis, name=name)\n\u001b[0m\u001b[1;32m   9667\u001b[0m   \u001b[0m_result\u001b[0m \u001b[0;34m=\u001b[0m \u001b[0m_op\u001b[0m\u001b[0;34m.\u001b[0m\u001b[0moutputs\u001b[0m\u001b[0;34m[\u001b[0m\u001b[0;34m:\u001b[0m\u001b[0;34m]\u001b[0m\u001b[0;34m\u001b[0m\u001b[0m\n\u001b[1;32m   9668\u001b[0m   \u001b[0m_inputs_flat\u001b[0m \u001b[0;34m=\u001b[0m \u001b[0m_op\u001b[0m\u001b[0;34m.\u001b[0m\u001b[0minputs\u001b[0m\u001b[0;34m\u001b[0m\u001b[0m\n",
      "\u001b[0;32m~/anaconda3/lib/python3.6/site-packages/tensorflow/python/framework/op_def_library.py\u001b[0m in \u001b[0;36m_apply_op_helper\u001b[0;34m(self, op_type_name, name, **keywords)\u001b[0m\n\u001b[1;32m    786\u001b[0m         op = g.create_op(op_type_name, inputs, dtypes=None, name=scope,\n\u001b[1;32m    787\u001b[0m                          \u001b[0minput_types\u001b[0m\u001b[0;34m=\u001b[0m\u001b[0minput_types\u001b[0m\u001b[0;34m,\u001b[0m \u001b[0mattrs\u001b[0m\u001b[0;34m=\u001b[0m\u001b[0mattr_protos\u001b[0m\u001b[0;34m,\u001b[0m\u001b[0;34m\u001b[0m\u001b[0m\n\u001b[0;32m--> 788\u001b[0;31m                          op_def=op_def)\n\u001b[0m\u001b[1;32m    789\u001b[0m       \u001b[0;32mreturn\u001b[0m \u001b[0moutput_structure\u001b[0m\u001b[0;34m,\u001b[0m \u001b[0mop_def\u001b[0m\u001b[0;34m.\u001b[0m\u001b[0mis_stateful\u001b[0m\u001b[0;34m,\u001b[0m \u001b[0mop\u001b[0m\u001b[0;34m\u001b[0m\u001b[0m\n\u001b[1;32m    790\u001b[0m \u001b[0;34m\u001b[0m\u001b[0m\n",
      "\u001b[0;32m~/anaconda3/lib/python3.6/site-packages/tensorflow/python/util/deprecation.py\u001b[0m in \u001b[0;36mnew_func\u001b[0;34m(*args, **kwargs)\u001b[0m\n\u001b[1;32m    505\u001b[0m                 \u001b[0;34m'in a future version'\u001b[0m \u001b[0;32mif\u001b[0m \u001b[0mdate\u001b[0m \u001b[0;32mis\u001b[0m \u001b[0;32mNone\u001b[0m \u001b[0;32melse\u001b[0m \u001b[0;34m(\u001b[0m\u001b[0;34m'after %s'\u001b[0m \u001b[0;34m%\u001b[0m \u001b[0mdate\u001b[0m\u001b[0;34m)\u001b[0m\u001b[0;34m,\u001b[0m\u001b[0;34m\u001b[0m\u001b[0m\n\u001b[1;32m    506\u001b[0m                 instructions)\n\u001b[0;32m--> 507\u001b[0;31m       \u001b[0;32mreturn\u001b[0m \u001b[0mfunc\u001b[0m\u001b[0;34m(\u001b[0m\u001b[0;34m*\u001b[0m\u001b[0margs\u001b[0m\u001b[0;34m,\u001b[0m \u001b[0;34m**\u001b[0m\u001b[0mkwargs\u001b[0m\u001b[0;34m)\u001b[0m\u001b[0;34m\u001b[0m\u001b[0m\n\u001b[0m\u001b[1;32m    508\u001b[0m \u001b[0;34m\u001b[0m\u001b[0m\n\u001b[1;32m    509\u001b[0m     doc = _add_deprecated_arg_notice_to_docstring(\n",
      "\u001b[0;32m~/anaconda3/lib/python3.6/site-packages/tensorflow/python/framework/ops.py\u001b[0m in \u001b[0;36mcreate_op\u001b[0;34m(***failed resolving arguments***)\u001b[0m\n\u001b[1;32m   3614\u001b[0m           \u001b[0minput_types\u001b[0m\u001b[0;34m=\u001b[0m\u001b[0minput_types\u001b[0m\u001b[0;34m,\u001b[0m\u001b[0;34m\u001b[0m\u001b[0m\n\u001b[1;32m   3615\u001b[0m           \u001b[0moriginal_op\u001b[0m\u001b[0;34m=\u001b[0m\u001b[0mself\u001b[0m\u001b[0;34m.\u001b[0m\u001b[0m_default_original_op\u001b[0m\u001b[0;34m,\u001b[0m\u001b[0;34m\u001b[0m\u001b[0m\n\u001b[0;32m-> 3616\u001b[0;31m           op_def=op_def)\n\u001b[0m\u001b[1;32m   3617\u001b[0m       \u001b[0mself\u001b[0m\u001b[0;34m.\u001b[0m\u001b[0m_create_op_helper\u001b[0m\u001b[0;34m(\u001b[0m\u001b[0mret\u001b[0m\u001b[0;34m,\u001b[0m \u001b[0mcompute_device\u001b[0m\u001b[0;34m=\u001b[0m\u001b[0mcompute_device\u001b[0m\u001b[0;34m)\u001b[0m\u001b[0;34m\u001b[0m\u001b[0m\n\u001b[1;32m   3618\u001b[0m     \u001b[0;32mreturn\u001b[0m \u001b[0mret\u001b[0m\u001b[0;34m\u001b[0m\u001b[0m\n",
      "\u001b[0;32m~/anaconda3/lib/python3.6/site-packages/tensorflow/python/framework/ops.py\u001b[0m in \u001b[0;36m__init__\u001b[0;34m(self, node_def, g, inputs, output_types, control_inputs, input_types, original_op, op_def)\u001b[0m\n\u001b[1;32m   2025\u001b[0m           op_def, inputs, node_def.attr)\n\u001b[1;32m   2026\u001b[0m       self._c_op = _create_c_op(self._graph, node_def, grouped_inputs,\n\u001b[0;32m-> 2027\u001b[0;31m                                 control_input_ops)\n\u001b[0m\u001b[1;32m   2028\u001b[0m \u001b[0;34m\u001b[0m\u001b[0m\n\u001b[1;32m   2029\u001b[0m     \u001b[0;31m# Initialize self._outputs.\u001b[0m\u001b[0;34m\u001b[0m\u001b[0;34m\u001b[0m\u001b[0m\n",
      "\u001b[0;32m~/anaconda3/lib/python3.6/site-packages/tensorflow/python/framework/ops.py\u001b[0m in \u001b[0;36m_create_c_op\u001b[0;34m(graph, node_def, inputs, control_inputs)\u001b[0m\n\u001b[1;32m   1865\u001b[0m   \u001b[0;32mexcept\u001b[0m \u001b[0merrors\u001b[0m\u001b[0;34m.\u001b[0m\u001b[0mInvalidArgumentError\u001b[0m \u001b[0;32mas\u001b[0m \u001b[0me\u001b[0m\u001b[0;34m:\u001b[0m\u001b[0;34m\u001b[0m\u001b[0m\n\u001b[1;32m   1866\u001b[0m     \u001b[0;31m# Convert to ValueError for backwards compatibility.\u001b[0m\u001b[0;34m\u001b[0m\u001b[0;34m\u001b[0m\u001b[0m\n\u001b[0;32m-> 1867\u001b[0;31m     \u001b[0;32mraise\u001b[0m \u001b[0mValueError\u001b[0m\u001b[0;34m(\u001b[0m\u001b[0mstr\u001b[0m\u001b[0;34m(\u001b[0m\u001b[0me\u001b[0m\u001b[0;34m)\u001b[0m\u001b[0;34m)\u001b[0m\u001b[0;34m\u001b[0m\u001b[0m\n\u001b[0m\u001b[1;32m   1868\u001b[0m \u001b[0;34m\u001b[0m\u001b[0m\n\u001b[1;32m   1869\u001b[0m   \u001b[0;32mreturn\u001b[0m \u001b[0mc_op\u001b[0m\u001b[0;34m\u001b[0m\u001b[0m\n",
      "\u001b[0;31mValueError\u001b[0m: Can not squeeze dim[1], expected a dimension of 1, got 10 for 'confusion_matrix_4/remove_squeezable_dimensions/Squeeze' (op: 'Squeeze') with input shapes: [10000,10]."
     ]
    }
   ],
   "source": [
    "# define model\n",
    "model = define_model(learning_rate=0.005,batch_size=20)\n",
    "\n",
    "#print model summary \n",
    "print(\"MODEL F SUMMARY :\")\n",
    "model.summary()\n",
    "\n",
    "# train the model \n",
    "print(\"Training start time: \", t.time())\n",
    "history = model.fit(trainX, trainY, epochs=10, batch_size=20, validation_data=(testX,testY))\n",
    "print(\"Training end time: \", t.time())# learning curves\n",
    "\n",
    "#summarizing training history, how model performance increased with each epoch\n",
    "summarize_diagnostics(history)\n",
    "\n",
    "\n",
    "# evaluate the model \n",
    "print(\"Testing start time: \", t.time())\n",
    "loss, acc = model.evaluate(testX, testY, verbose=3)\n",
    "print(\"Testing accuracy is \", ' %.3f' % (acc * 100.0))\n",
    "print(\"Testing end time: \", t.time())\n",
    "\n",
    "#saving the model\n",
    "model_name=\"model_F\"\n",
    "model.save(model_name,\".h5\")\n",
    "\n",
    "# Confusion Matrix\n",
    "predictions = model.predict(testX)\n",
    "predictions = np.argmax(predictions,axis = 1)\n",
    "labels = np.argmax(testY,axis = 1)\n",
    "confusion_matrix = tf.math.confusion_matrix(\n",
    "    labels, predictions, num_classes=10\n",
    ")\n",
    "\n",
    "sess = tf.Session()\n",
    "with sess.as_default():\n",
    "        print(sess.run(confusion_matrix))\n",
    "\n"
   ]
  },
  {
   "cell_type": "code",
   "execution_count": 18,
   "id": "b9114db8",
   "metadata": {},
   "outputs": [
    {
     "name": "stdout",
     "output_type": "stream",
     "text": [
      "[[ 973    0    1    0    0    0    2    2    2    0]\n",
      " [   0 1122    2    1    1    0    3    2    4    0]\n",
      " [   1    1 1015    1    1    0    0    5    6    2]\n",
      " [   0    0    2 1004    0    2    0    0    2    0]\n",
      " [   0    0    2    0  970    0    1    0    1    8]\n",
      " [   1    0    0    6    0  882    3    0    0    0]\n",
      " [   5    2    1    0    1    2  946    0    1    0]\n",
      " [   1    0    4    2    0    0    0 1018    0    3]\n",
      " [   5    0    1    0    1    4    0    2  957    4]\n",
      " [   1    0    0    6    9    1    0    3    2  987]]\n"
     ]
    }
   ],
   "source": [
    "confusion_matrix = tf.math.confusion_matrix(\n",
    "    labels, predictions, num_classes=10\n",
    ")\n",
    "\n",
    "sess = tf.Session()\n",
    "with sess.as_default():\n",
    "        print(sess.run(confusion_matrix))\n",
    "\n"
   ]
  }
 ],
 "metadata": {
  "kernelspec": {
   "display_name": "Python 3",
   "language": "python",
   "name": "python3"
  }
 },
 "nbformat": 4,
 "nbformat_minor": 5
}
